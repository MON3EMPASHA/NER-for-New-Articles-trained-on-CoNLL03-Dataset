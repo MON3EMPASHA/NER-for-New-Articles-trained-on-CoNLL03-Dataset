{
  "nbformat": 4,
  "nbformat_minor": 0,
  "metadata": {
    "colab": {
      "provenance": [],
      "gpuType": "T4"
    },
    "kernelspec": {
      "name": "python3",
      "display_name": "Python 3"
    },
    "language_info": {
      "name": "python"
    },
    "accelerator": "GPU"
  },
  "cells": [
    {
      "cell_type": "markdown",
      "source": [
        "# Named Entity Recognition (NER) for News Articles"
      ],
      "metadata": {
        "id": "_owiNdT8PTaT"
      }
    },
    {
      "cell_type": "markdown",
      "source": [
        "## Imports"
      ],
      "metadata": {
        "id": "gso3xPQEPh9w"
      }
    },
    {
      "cell_type": "code",
      "source": [
        "import pandas as pd\n",
        "import spacy\n",
        "from spacy import displacy\n",
        "import os\n",
        "import joblib\n",
        "from tqdm import tqdm\n",
        "from sklearn.metrics import precision_recall_fscore_support\n",
        "import re\n",
        "from pathlib import Path\n",
        "\n",
        "# Ensure spaCy models are downloaded\n",
        "!python -m spacy download en_core_web_sm\n",
        "!python -m spacy download en_core_web_lg"
      ],
      "metadata": {
        "id": "wSz4UqGrPkeg",
        "colab": {
          "base_uri": "https://localhost:8080/"
        },
        "outputId": "bb3e8dc8-b828-417f-fc62-6f0487783636"
      },
      "execution_count": 1,
      "outputs": [
        {
          "output_type": "stream",
          "name": "stdout",
          "text": [
            "Collecting en-core-web-sm==3.8.0\n",
            "  Downloading https://github.com/explosion/spacy-models/releases/download/en_core_web_sm-3.8.0/en_core_web_sm-3.8.0-py3-none-any.whl (12.8 MB)\n",
            "\u001b[2K     \u001b[90m━━━━━━━━━━━━━━━━━━━━━━━━━━━━━━━━━━━━━━━\u001b[0m \u001b[32m12.8/12.8 MB\u001b[0m \u001b[31m129.8 MB/s\u001b[0m eta \u001b[36m0:00:00\u001b[0m\n",
            "\u001b[?25h\u001b[38;5;2m✔ Download and installation successful\u001b[0m\n",
            "You can now load the package via spacy.load('en_core_web_sm')\n",
            "\u001b[38;5;3m⚠ Restart to reload dependencies\u001b[0m\n",
            "If you are in a Jupyter or Colab notebook, you may need to restart Python in\n",
            "order to load all the package's dependencies. You can do this by selecting the\n",
            "'Restart kernel' or 'Restart runtime' option.\n",
            "Collecting en-core-web-lg==3.8.0\n",
            "  Downloading https://github.com/explosion/spacy-models/releases/download/en_core_web_lg-3.8.0/en_core_web_lg-3.8.0-py3-none-any.whl (400.7 MB)\n",
            "\u001b[2K     \u001b[90m━━━━━━━━━━━━━━━━━━━━━━━━━━━━━━━━━━━━━━━\u001b[0m \u001b[32m400.7/400.7 MB\u001b[0m \u001b[31m4.5 MB/s\u001b[0m eta \u001b[36m0:00:00\u001b[0m\n",
            "\u001b[?25hInstalling collected packages: en-core-web-lg\n",
            "Successfully installed en-core-web-lg-3.8.0\n",
            "\u001b[38;5;2m✔ Download and installation successful\u001b[0m\n",
            "You can now load the package via spacy.load('en_core_web_lg')\n",
            "\u001b[38;5;3m⚠ Restart to reload dependencies\u001b[0m\n",
            "If you are in a Jupyter or Colab notebook, you may need to restart Python in\n",
            "order to load all the package's dependencies. You can do this by selecting the\n",
            "'Restart kernel' or 'Restart runtime' option.\n"
          ]
        }
      ]
    },
    {
      "cell_type": "markdown",
      "source": [
        "## 1. Load and Preprocess Dataset"
      ],
      "metadata": {
        "id": "w0Lr3EsyPYgp"
      }
    },
    {
      "cell_type": "code",
      "source": [
        "# Load CoNLL-2003 dataset\n",
        "def load_conll_data(file_path):\n",
        "    sentences, labels = [], []\n",
        "    current_sentence, current_labels = [], []\n",
        "    with open(file_path, 'r', encoding='utf-8') as f:\n",
        "        for line in f:\n",
        "            if line.strip() == '' or line.startswith('-DOCSTART-'):\n",
        "                if current_sentence:\n",
        "                    sentences.append(' '.join(current_sentence))\n",
        "                    labels.append(current_labels)\n",
        "                    current_sentence, current_labels = [], []\n",
        "            else:\n",
        "                token, _, _, label = line.strip().split()\n",
        "                current_sentence.append(token)\n",
        "                current_labels.append(label)\n",
        "    if current_sentence:\n",
        "        sentences.append(' '.join(current_sentence))\n",
        "        labels.append(current_labels)\n",
        "    return pd.DataFrame({'text': sentences, 'labels': labels})\n",
        "\n",
        "# Load train, validation, and test datasets\n",
        "train_df = load_conll_data('train.txt')\n",
        "valid_df = load_conll_data('valid.txt')\n",
        "test_df = load_conll_data('test.txt')\n",
        "\n",
        "train_df.head()"
      ],
      "metadata": {
        "id": "Pdql6x7RNnLP",
        "colab": {
          "base_uri": "https://localhost:8080/",
          "height": 206
        },
        "outputId": "1fc539ba-6fb7-4e19-8b94-cec47a3e3f10"
      },
      "execution_count": 10,
      "outputs": [
        {
          "output_type": "execute_result",
          "data": {
            "text/plain": [
              "                                                text  \\\n",
              "0   EU rejects German call to boycott British lamb .   \n",
              "1                                    Peter Blackburn   \n",
              "2                                BRUSSELS 1996-08-22   \n",
              "3  The European Commission said on Thursday it di...   \n",
              "4  Germany 's representative to the European Unio...   \n",
              "\n",
              "                                              labels  \n",
              "0          [B-ORG, O, B-MISC, O, O, O, B-MISC, O, O]  \n",
              "1                                     [B-PER, I-PER]  \n",
              "2                                         [B-LOC, O]  \n",
              "3  [O, B-ORG, I-ORG, O, O, O, O, O, O, B-MISC, O,...  \n",
              "4  [B-LOC, O, O, O, O, B-ORG, I-ORG, O, O, O, B-P...  "
            ],
            "text/html": [
              "\n",
              "  <div id=\"df-50681b54-e6ab-4fc5-a972-5585e6048ed8\" class=\"colab-df-container\">\n",
              "    <div>\n",
              "<style scoped>\n",
              "    .dataframe tbody tr th:only-of-type {\n",
              "        vertical-align: middle;\n",
              "    }\n",
              "\n",
              "    .dataframe tbody tr th {\n",
              "        vertical-align: top;\n",
              "    }\n",
              "\n",
              "    .dataframe thead th {\n",
              "        text-align: right;\n",
              "    }\n",
              "</style>\n",
              "<table border=\"1\" class=\"dataframe\">\n",
              "  <thead>\n",
              "    <tr style=\"text-align: right;\">\n",
              "      <th></th>\n",
              "      <th>text</th>\n",
              "      <th>labels</th>\n",
              "    </tr>\n",
              "  </thead>\n",
              "  <tbody>\n",
              "    <tr>\n",
              "      <th>0</th>\n",
              "      <td>EU rejects German call to boycott British lamb .</td>\n",
              "      <td>[B-ORG, O, B-MISC, O, O, O, B-MISC, O, O]</td>\n",
              "    </tr>\n",
              "    <tr>\n",
              "      <th>1</th>\n",
              "      <td>Peter Blackburn</td>\n",
              "      <td>[B-PER, I-PER]</td>\n",
              "    </tr>\n",
              "    <tr>\n",
              "      <th>2</th>\n",
              "      <td>BRUSSELS 1996-08-22</td>\n",
              "      <td>[B-LOC, O]</td>\n",
              "    </tr>\n",
              "    <tr>\n",
              "      <th>3</th>\n",
              "      <td>The European Commission said on Thursday it di...</td>\n",
              "      <td>[O, B-ORG, I-ORG, O, O, O, O, O, O, B-MISC, O,...</td>\n",
              "    </tr>\n",
              "    <tr>\n",
              "      <th>4</th>\n",
              "      <td>Germany 's representative to the European Unio...</td>\n",
              "      <td>[B-LOC, O, O, O, O, B-ORG, I-ORG, O, O, O, B-P...</td>\n",
              "    </tr>\n",
              "  </tbody>\n",
              "</table>\n",
              "</div>\n",
              "    <div class=\"colab-df-buttons\">\n",
              "\n",
              "  <div class=\"colab-df-container\">\n",
              "    <button class=\"colab-df-convert\" onclick=\"convertToInteractive('df-50681b54-e6ab-4fc5-a972-5585e6048ed8')\"\n",
              "            title=\"Convert this dataframe to an interactive table.\"\n",
              "            style=\"display:none;\">\n",
              "\n",
              "  <svg xmlns=\"http://www.w3.org/2000/svg\" height=\"24px\" viewBox=\"0 -960 960 960\">\n",
              "    <path d=\"M120-120v-720h720v720H120Zm60-500h600v-160H180v160Zm220 220h160v-160H400v160Zm0 220h160v-160H400v160ZM180-400h160v-160H180v160Zm440 0h160v-160H620v160ZM180-180h160v-160H180v160Zm440 0h160v-160H620v160Z\"/>\n",
              "  </svg>\n",
              "    </button>\n",
              "\n",
              "  <style>\n",
              "    .colab-df-container {\n",
              "      display:flex;\n",
              "      gap: 12px;\n",
              "    }\n",
              "\n",
              "    .colab-df-convert {\n",
              "      background-color: #E8F0FE;\n",
              "      border: none;\n",
              "      border-radius: 50%;\n",
              "      cursor: pointer;\n",
              "      display: none;\n",
              "      fill: #1967D2;\n",
              "      height: 32px;\n",
              "      padding: 0 0 0 0;\n",
              "      width: 32px;\n",
              "    }\n",
              "\n",
              "    .colab-df-convert:hover {\n",
              "      background-color: #E2EBFA;\n",
              "      box-shadow: 0px 1px 2px rgba(60, 64, 67, 0.3), 0px 1px 3px 1px rgba(60, 64, 67, 0.15);\n",
              "      fill: #174EA6;\n",
              "    }\n",
              "\n",
              "    .colab-df-buttons div {\n",
              "      margin-bottom: 4px;\n",
              "    }\n",
              "\n",
              "    [theme=dark] .colab-df-convert {\n",
              "      background-color: #3B4455;\n",
              "      fill: #D2E3FC;\n",
              "    }\n",
              "\n",
              "    [theme=dark] .colab-df-convert:hover {\n",
              "      background-color: #434B5C;\n",
              "      box-shadow: 0px 1px 3px 1px rgba(0, 0, 0, 0.15);\n",
              "      filter: drop-shadow(0px 1px 2px rgba(0, 0, 0, 0.3));\n",
              "      fill: #FFFFFF;\n",
              "    }\n",
              "  </style>\n",
              "\n",
              "    <script>\n",
              "      const buttonEl =\n",
              "        document.querySelector('#df-50681b54-e6ab-4fc5-a972-5585e6048ed8 button.colab-df-convert');\n",
              "      buttonEl.style.display =\n",
              "        google.colab.kernel.accessAllowed ? 'block' : 'none';\n",
              "\n",
              "      async function convertToInteractive(key) {\n",
              "        const element = document.querySelector('#df-50681b54-e6ab-4fc5-a972-5585e6048ed8');\n",
              "        const dataTable =\n",
              "          await google.colab.kernel.invokeFunction('convertToInteractive',\n",
              "                                                    [key], {});\n",
              "        if (!dataTable) return;\n",
              "\n",
              "        const docLinkHtml = 'Like what you see? Visit the ' +\n",
              "          '<a target=\"_blank\" href=https://colab.research.google.com/notebooks/data_table.ipynb>data table notebook</a>'\n",
              "          + ' to learn more about interactive tables.';\n",
              "        element.innerHTML = '';\n",
              "        dataTable['output_type'] = 'display_data';\n",
              "        await google.colab.output.renderOutput(dataTable, element);\n",
              "        const docLink = document.createElement('div');\n",
              "        docLink.innerHTML = docLinkHtml;\n",
              "        element.appendChild(docLink);\n",
              "      }\n",
              "    </script>\n",
              "  </div>\n",
              "\n",
              "\n",
              "    <div id=\"df-9bac6ca7-b868-40d0-ab1b-0f114cf56086\">\n",
              "      <button class=\"colab-df-quickchart\" onclick=\"quickchart('df-9bac6ca7-b868-40d0-ab1b-0f114cf56086')\"\n",
              "                title=\"Suggest charts\"\n",
              "                style=\"display:none;\">\n",
              "\n",
              "<svg xmlns=\"http://www.w3.org/2000/svg\" height=\"24px\"viewBox=\"0 0 24 24\"\n",
              "     width=\"24px\">\n",
              "    <g>\n",
              "        <path d=\"M19 3H5c-1.1 0-2 .9-2 2v14c0 1.1.9 2 2 2h14c1.1 0 2-.9 2-2V5c0-1.1-.9-2-2-2zM9 17H7v-7h2v7zm4 0h-2V7h2v10zm4 0h-2v-4h2v4z\"/>\n",
              "    </g>\n",
              "</svg>\n",
              "      </button>\n",
              "\n",
              "<style>\n",
              "  .colab-df-quickchart {\n",
              "      --bg-color: #E8F0FE;\n",
              "      --fill-color: #1967D2;\n",
              "      --hover-bg-color: #E2EBFA;\n",
              "      --hover-fill-color: #174EA6;\n",
              "      --disabled-fill-color: #AAA;\n",
              "      --disabled-bg-color: #DDD;\n",
              "  }\n",
              "\n",
              "  [theme=dark] .colab-df-quickchart {\n",
              "      --bg-color: #3B4455;\n",
              "      --fill-color: #D2E3FC;\n",
              "      --hover-bg-color: #434B5C;\n",
              "      --hover-fill-color: #FFFFFF;\n",
              "      --disabled-bg-color: #3B4455;\n",
              "      --disabled-fill-color: #666;\n",
              "  }\n",
              "\n",
              "  .colab-df-quickchart {\n",
              "    background-color: var(--bg-color);\n",
              "    border: none;\n",
              "    border-radius: 50%;\n",
              "    cursor: pointer;\n",
              "    display: none;\n",
              "    fill: var(--fill-color);\n",
              "    height: 32px;\n",
              "    padding: 0;\n",
              "    width: 32px;\n",
              "  }\n",
              "\n",
              "  .colab-df-quickchart:hover {\n",
              "    background-color: var(--hover-bg-color);\n",
              "    box-shadow: 0 1px 2px rgba(60, 64, 67, 0.3), 0 1px 3px 1px rgba(60, 64, 67, 0.15);\n",
              "    fill: var(--button-hover-fill-color);\n",
              "  }\n",
              "\n",
              "  .colab-df-quickchart-complete:disabled,\n",
              "  .colab-df-quickchart-complete:disabled:hover {\n",
              "    background-color: var(--disabled-bg-color);\n",
              "    fill: var(--disabled-fill-color);\n",
              "    box-shadow: none;\n",
              "  }\n",
              "\n",
              "  .colab-df-spinner {\n",
              "    border: 2px solid var(--fill-color);\n",
              "    border-color: transparent;\n",
              "    border-bottom-color: var(--fill-color);\n",
              "    animation:\n",
              "      spin 1s steps(1) infinite;\n",
              "  }\n",
              "\n",
              "  @keyframes spin {\n",
              "    0% {\n",
              "      border-color: transparent;\n",
              "      border-bottom-color: var(--fill-color);\n",
              "      border-left-color: var(--fill-color);\n",
              "    }\n",
              "    20% {\n",
              "      border-color: transparent;\n",
              "      border-left-color: var(--fill-color);\n",
              "      border-top-color: var(--fill-color);\n",
              "    }\n",
              "    30% {\n",
              "      border-color: transparent;\n",
              "      border-left-color: var(--fill-color);\n",
              "      border-top-color: var(--fill-color);\n",
              "      border-right-color: var(--fill-color);\n",
              "    }\n",
              "    40% {\n",
              "      border-color: transparent;\n",
              "      border-right-color: var(--fill-color);\n",
              "      border-top-color: var(--fill-color);\n",
              "    }\n",
              "    60% {\n",
              "      border-color: transparent;\n",
              "      border-right-color: var(--fill-color);\n",
              "    }\n",
              "    80% {\n",
              "      border-color: transparent;\n",
              "      border-right-color: var(--fill-color);\n",
              "      border-bottom-color: var(--fill-color);\n",
              "    }\n",
              "    90% {\n",
              "      border-color: transparent;\n",
              "      border-bottom-color: var(--fill-color);\n",
              "    }\n",
              "  }\n",
              "</style>\n",
              "\n",
              "      <script>\n",
              "        async function quickchart(key) {\n",
              "          const quickchartButtonEl =\n",
              "            document.querySelector('#' + key + ' button');\n",
              "          quickchartButtonEl.disabled = true;  // To prevent multiple clicks.\n",
              "          quickchartButtonEl.classList.add('colab-df-spinner');\n",
              "          try {\n",
              "            const charts = await google.colab.kernel.invokeFunction(\n",
              "                'suggestCharts', [key], {});\n",
              "          } catch (error) {\n",
              "            console.error('Error during call to suggestCharts:', error);\n",
              "          }\n",
              "          quickchartButtonEl.classList.remove('colab-df-spinner');\n",
              "          quickchartButtonEl.classList.add('colab-df-quickchart-complete');\n",
              "        }\n",
              "        (() => {\n",
              "          let quickchartButtonEl =\n",
              "            document.querySelector('#df-9bac6ca7-b868-40d0-ab1b-0f114cf56086 button');\n",
              "          quickchartButtonEl.style.display =\n",
              "            google.colab.kernel.accessAllowed ? 'block' : 'none';\n",
              "        })();\n",
              "      </script>\n",
              "    </div>\n",
              "\n",
              "    </div>\n",
              "  </div>\n"
            ],
            "application/vnd.google.colaboratory.intrinsic+json": {
              "type": "dataframe",
              "variable_name": "train_df",
              "summary": "{\n  \"name\": \"train_df\",\n  \"rows\": 14041,\n  \"fields\": [\n    {\n      \"column\": \"text\",\n      \"properties\": {\n        \"dtype\": \"string\",\n        \"num_unique_values\": 12691,\n        \"samples\": [\n          \"DTD : 09/01/96 SURE BID : N\",\n          \"3. Franka Dietzsch ( Germany ) 61.74\",\n          \"Nicaraguan president has operation in U.S .\"\n        ],\n        \"semantic_type\": \"\",\n        \"description\": \"\"\n      }\n    },\n    {\n      \"column\": \"labels\",\n      \"properties\": {\n        \"dtype\": \"object\",\n        \"semantic_type\": \"\",\n        \"description\": \"\"\n      }\n    }\n  ]\n}"
            }
          },
          "metadata": {},
          "execution_count": 10
        }
      ]
    },
    {
      "cell_type": "markdown",
      "source": [
        "## 2. Rule-Based NER"
      ],
      "metadata": {
        "id": "k6Wky_2_YILR"
      }
    },
    {
      "cell_type": "code",
      "source": [
        "# Simple rule-based NER using regex patterns\n",
        "def rule_based_ner(text):\n",
        "    entities = {'PERSON': [], 'ORG': [], 'LOC': [], 'MISC': []}\n",
        "    # Basic patterns for names, organizations, locations, and misc\n",
        "    person_pattern = r'\\b[A-Z][a-z]+ [A-Z][a-z]+\\b'\n",
        "    org_pattern = r'\\b[A-Z][a-zA-Z]*(?:\\s+[A-Z][a-zA-Z]*)+\\b'\n",
        "    loc_pattern = r'\\b[A-Z][a-z]+(?:\\s+[A-Z][a-z]+)?\\b'\n",
        "\n",
        "    entities['PERSON'].extend(re.findall(person_pattern, text))\n",
        "    entities['ORG'].extend([org for org in re.findall(org_pattern, text) if org not in entities['PERSON']])\n",
        "    entities['LOC'].extend([loc for loc in re.findall(loc_pattern, text) if loc not in entities['PERSON'] and loc not in entities['ORG']])\n",
        "    entities['MISC'].extend(['German', 'British'] if 'German' in text or 'British' in text else [])\n",
        "\n",
        "    return entities\n",
        "\n",
        "# Apply rule-based NER to a sample\n",
        "sample_text = train_df['text'].iloc[0]\n",
        "rule_entities = rule_based_ner(sample_text)\n",
        "print(f\"Sample Text: {sample_text}\")\n",
        "print(\"Rule-Based NER Results:\", rule_entities)"
      ],
      "metadata": {
        "id": "yGVGHG44YDcy",
        "colab": {
          "base_uri": "https://localhost:8080/"
        },
        "outputId": "f5b5df3c-44be-48c9-b0cd-489c37b28bd8"
      },
      "execution_count": 3,
      "outputs": [
        {
          "output_type": "stream",
          "name": "stdout",
          "text": [
            "Sample Text: EU rejects German call to boycott British lamb .\n",
            "Rule-Based NER Results: {'PERSON': [], 'ORG': [], 'LOC': ['German', 'British'], 'MISC': ['German', 'British']}\n"
          ]
        }
      ]
    },
    {
      "cell_type": "markdown",
      "source": [
        "## 3. Model-Based NER with spaCy"
      ],
      "metadata": {
        "id": "V1M0yXz_YR5T"
      }
    },
    {
      "cell_type": "code",
      "source": [
        "# Load spaCy models\n",
        "nlp_sm = spacy.load('en_core_web_sm')\n",
        "nlp_lg = spacy.load('en_core_web_lg')\n",
        "\n",
        "# Function to extract entities using spaCy\n",
        "def spacy_ner(text, model):\n",
        "    doc = model(text)\n",
        "    entities = {'PERSON': [], 'ORG': [], 'LOC': [], 'MISC': []}\n",
        "    for ent in doc.ents:\n",
        "        if ent.label_ == 'PERSON':\n",
        "            entities['PERSON'].append(ent.text)\n",
        "        elif ent.label_ == 'ORG':\n",
        "            entities['ORG'].append(ent.text)\n",
        "        elif ent.label_ == 'GPE':\n",
        "            entities['LOC'].append(ent.text)\n",
        "        elif ent.label_ == 'NORP':\n",
        "            entities['MISC'].append(ent.text)\n",
        "    return entities\n",
        "\n",
        "# Apply spaCy models with progress bar\n",
        "tqdm.pandas()\n",
        "train_df['entities_sm'] = train_df['text'].progress_apply(lambda x: spacy_ner(x, nlp_sm))\n",
        "train_df['entities_lg'] = train_df['text'].progress_apply(lambda x: spacy_ner(x, nlp_lg))\n",
        "valid_df['entities_sm'] = valid_df['text'].progress_apply(lambda x: spacy_ner(x, nlp_sm))\n",
        "valid_df['entities_lg'] = valid_df['text'].progress_apply(lambda x: spacy_ner(x, nlp_lg))\n",
        "test_df['entities_sm'] = test_df['text'].progress_apply(lambda x: spacy_ner(x, nlp_sm))\n",
        "test_df['entities_lg'] = test_df['text'].progress_apply(lambda x: spacy_ner(x, nlp_lg))\n",
        "\n",
        "# Display sample results\n",
        "print(\"\\n\\nSmall Model NER Results (First Row, Train):\")\n",
        "print(train_df['entities_sm'].iloc[0])\n",
        "print(\"\\nLarge Model NER Results (First Row, Train):\")\n",
        "print(train_df['entities_lg'].iloc[0])"
      ],
      "metadata": {
        "id": "Y7xW8zq_YT2X",
        "colab": {
          "base_uri": "https://localhost:8080/"
        },
        "outputId": "f9e1f1a4-6bd7-483a-9aa9-5db737c8e1b0"
      },
      "execution_count": 12,
      "outputs": [
        {
          "output_type": "stream",
          "name": "stderr",
          "text": [
            "100%|██████████| 14041/14041 [01:39<00:00, 140.96it/s]\n",
            "100%|██████████| 14041/14041 [01:46<00:00, 131.51it/s]\n",
            "100%|██████████| 3250/3250 [00:23<00:00, 136.16it/s]\n",
            "100%|██████████| 3250/3250 [00:24<00:00, 131.93it/s]\n",
            "100%|██████████| 3453/3453 [00:23<00:00, 150.07it/s]\n",
            "100%|██████████| 3453/3453 [00:24<00:00, 138.38it/s]"
          ]
        },
        {
          "output_type": "stream",
          "name": "stdout",
          "text": [
            "\n",
            "\n",
            "Small Model NER Results (First Row, Train):\n",
            "{'PERSON': [], 'ORG': ['EU'], 'LOC': [], 'MISC': ['German', 'British']}\n",
            "\n",
            "Large Model NER Results (First Row, Train):\n",
            "{'PERSON': [], 'ORG': ['EU'], 'LOC': [], 'MISC': ['German', 'British']}\n"
          ]
        },
        {
          "output_type": "stream",
          "name": "stderr",
          "text": [
            "\n"
          ]
        }
      ]
    },
    {
      "cell_type": "markdown",
      "source": [
        "## 4. Visualize Entities with displaCy"
      ],
      "metadata": {
        "id": "o9z5Xzq_YW8V"
      }
    },
    {
      "cell_type": "code",
      "source": [
        "# Visualize entities for a sample text\n",
        "sample_doc_sm = nlp_sm(sample_text)\n",
        "sample_doc_lg = nlp_lg(sample_text)\n",
        "\n",
        "print(\"\\nSmall Model Visualization:\")\n",
        "displacy.render(sample_doc_sm, style='ent', jupyter=True)\n",
        "\n",
        "print(\"\\nLarge Model Visualization:\")\n",
        "displacy.render(sample_doc_lg, style='ent', jupyter=True)"
      ],
      "metadata": {
        "id": "z5t7Xzq_YY8W",
        "colab": {
          "base_uri": "https://localhost:8080/",
          "height": 160
        },
        "outputId": "d8aad30a-0cdd-4543-dad0-89caa80e25c4"
      },
      "execution_count": 5,
      "outputs": [
        {
          "output_type": "stream",
          "name": "stdout",
          "text": [
            "\n",
            "Small Model Visualization:\n"
          ]
        },
        {
          "output_type": "display_data",
          "data": {
            "text/plain": [
              "<IPython.core.display.HTML object>"
            ],
            "text/html": [
              "<span class=\"tex2jax_ignore\"><div class=\"entities\" style=\"line-height: 2.5; direction: ltr\">\n",
              "<mark class=\"entity\" style=\"background: #7aecec; padding: 0.45em 0.6em; margin: 0 0.25em; line-height: 1; border-radius: 0.35em;\">\n",
              "    EU\n",
              "    <span style=\"font-size: 0.8em; font-weight: bold; line-height: 1; border-radius: 0.35em; vertical-align: middle; margin-left: 0.5rem\">ORG</span>\n",
              "</mark>\n",
              " rejects \n",
              "<mark class=\"entity\" style=\"background: #c887fb; padding: 0.45em 0.6em; margin: 0 0.25em; line-height: 1; border-radius: 0.35em;\">\n",
              "    German\n",
              "    <span style=\"font-size: 0.8em; font-weight: bold; line-height: 1; border-radius: 0.35em; vertical-align: middle; margin-left: 0.5rem\">NORP</span>\n",
              "</mark>\n",
              " call to boycott \n",
              "<mark class=\"entity\" style=\"background: #c887fb; padding: 0.45em 0.6em; margin: 0 0.25em; line-height: 1; border-radius: 0.35em;\">\n",
              "    British\n",
              "    <span style=\"font-size: 0.8em; font-weight: bold; line-height: 1; border-radius: 0.35em; vertical-align: middle; margin-left: 0.5rem\">NORP</span>\n",
              "</mark>\n",
              " lamb .</div></span>"
            ]
          },
          "metadata": {}
        },
        {
          "output_type": "stream",
          "name": "stdout",
          "text": [
            "\n",
            "Large Model Visualization:\n"
          ]
        },
        {
          "output_type": "display_data",
          "data": {
            "text/plain": [
              "<IPython.core.display.HTML object>"
            ],
            "text/html": [
              "<span class=\"tex2jax_ignore\"><div class=\"entities\" style=\"line-height: 2.5; direction: ltr\">\n",
              "<mark class=\"entity\" style=\"background: #7aecec; padding: 0.45em 0.6em; margin: 0 0.25em; line-height: 1; border-radius: 0.35em;\">\n",
              "    EU\n",
              "    <span style=\"font-size: 0.8em; font-weight: bold; line-height: 1; border-radius: 0.35em; vertical-align: middle; margin-left: 0.5rem\">ORG</span>\n",
              "</mark>\n",
              " rejects \n",
              "<mark class=\"entity\" style=\"background: #c887fb; padding: 0.45em 0.6em; margin: 0 0.25em; line-height: 1; border-radius: 0.35em;\">\n",
              "    German\n",
              "    <span style=\"font-size: 0.8em; font-weight: bold; line-height: 1; border-radius: 0.35em; vertical-align: middle; margin-left: 0.5rem\">NORP</span>\n",
              "</mark>\n",
              " call to boycott \n",
              "<mark class=\"entity\" style=\"background: #c887fb; padding: 0.45em 0.6em; margin: 0 0.25em; line-height: 1; border-radius: 0.35em;\">\n",
              "    British\n",
              "    <span style=\"font-size: 0.8em; font-weight: bold; line-height: 1; border-radius: 0.35em; vertical-align: middle; margin-left: 0.5rem\">NORP</span>\n",
              "</mark>\n",
              " lamb .</div></span>"
            ]
          },
          "metadata": {}
        }
      ]
    },
    {
      "cell_type": "markdown",
      "source": [
        "## 5. Evaluate Models"
      ],
      "metadata": {
        "id": "1G9x9CMvEJn4"
      }
    },
    {
      "cell_type": "code",
      "source": [
        "# Function to extract true entities from CoNLL labels\n",
        "def extract_true_entities(text, labels):\n",
        "    entities = {'PER': [], 'ORG': [], 'LOC': [], 'MISC': []}\n",
        "    current_entity = []\n",
        "    current_type = None\n",
        "    for token, label in zip(text.split(), labels):\n",
        "        if label.startswith('B-'):\n",
        "            if current_entity:\n",
        "                entities[current_type].append(' '.join(current_entity))\n",
        "            current_entity = [token]\n",
        "            current_type = label[2:]\n",
        "        elif label.startswith('I-') and current_type == label[2:]:\n",
        "            current_entity.append(token)\n",
        "        else:\n",
        "            if current_entity:\n",
        "                entities[current_type].append(' '.join(current_entity))\n",
        "                current_entity = []\n",
        "                current_type = None\n",
        "    if current_entity:\n",
        "        entities[current_type].append(' '.join(current_entity))\n",
        "    return entities\n",
        "\n",
        "# Function to evaluate NER performance\n",
        "def evaluate_ner(true_labels, pred_entities):\n",
        "    y_true, y_pred = [], []\n",
        "    for (text, labels), pred in zip(true_labels, pred_entities):\n",
        "        true_entities = extract_true_entities(text, labels)\n",
        "        for entity_type in ['PER', 'ORG', 'LOC', 'MISC']:\n",
        "            pred_key = entity_type if entity_type != 'PER' else 'PERSON'\n",
        "            for entity in true_entities[entity_type]:\n",
        "                y_true.append(entity_type + ':' + entity)\n",
        "                y_pred.append(entity_type + ':' + entity if entity in pred[pred_key] else 'O')\n",
        "            for entity in pred[pred_key]:\n",
        "                if entity not in true_entities[entity_type]:\n",
        "                    y_true.append('O')\n",
        "                    y_pred.append(entity_type + ':' + entity)\n",
        "\n",
        "    precision, recall, f1, _ = precision_recall_fscore_support(y_true, y_pred, average='micro', zero_division=0)\n",
        "    return precision, recall, f1\n",
        "\n",
        "# Evaluate on validation and test sets\n",
        "valid_sm_entities = valid_df['entities_sm'].tolist()\n",
        "valid_lg_entities = valid_df['entities_lg'].tolist()\n",
        "test_sm_entities = test_df['entities_sm'].tolist()\n",
        "test_lg_entities = test_df['entities_lg'].tolist()\n",
        "\n",
        "valid_sm_precision, valid_sm_recall, valid_sm_f1 = evaluate_ner(valid_df[['text', 'labels']].values, valid_sm_entities)\n",
        "valid_lg_precision, valid_lg_recall, valid_lg_f1 = evaluate_ner(valid_df[['text', 'labels']].values, valid_lg_entities)\n",
        "test_sm_precision, test_sm_recall, test_sm_f1 = evaluate_ner(test_df[['text', 'labels']].values, test_sm_entities)\n",
        "test_lg_precision, test_lg_recall, test_lg_f1 = evaluate_ner(test_df[['text', 'labels']].values, test_lg_entities)\n",
        "\n",
        "# Print evaluation results\n",
        "print(\"\\nValidation Set - Small Model Scores:\")\n",
        "print(f\"Precision: {valid_sm_precision:.4f}, Recall: {valid_sm_recall:.4f}, F1: {valid_sm_f1:.4f}\")\n",
        "print(\"Validation Set - Large Model Scores:\")\n",
        "print(f\"Precision: {valid_lg_precision:.4f}, Recall: {valid_lg_recall:.4f}, F1: {valid_lg_f1:.4f}\")\n",
        "print(\"\\nTest Set - Small Model Scores:\")\n",
        "print(f\"Precision: {test_sm_precision:.4f}, Recall: {test_sm_recall:.4f}, F1: {test_sm_f1:.4f}\")\n",
        "print(\"Test Set - Large Model Scores:\")\n",
        "print(f\"Precision: {test_lg_precision:.4f}, Recall: {test_lg_recall:.4f}, F1: {test_lg_f1:.4f}\")"
      ],
      "metadata": {
        "colab": {
          "base_uri": "https://localhost:8080/"
        },
        "id": "KrF4EUvyEJn4",
        "outputId": "0e9afd51-f2f9-4fe5-b881-c1dbeaf4aa6a"
      },
      "execution_count": 6,
      "outputs": [
        {
          "output_type": "stream",
          "name": "stdout",
          "text": [
            "\n",
            "Validation Set - Small Model Scores:\n",
            "Precision: 0.4748, Recall: 0.4748, F1: 0.4748\n",
            "Validation Set - Large Model Scores:\n",
            "Precision: 0.5386, Recall: 0.5386, F1: 0.5386\n",
            "\n",
            "Test Set - Small Model Scores:\n",
            "Precision: 0.4351, Recall: 0.4351, F1: 0.4351\n",
            "Test Set - Large Model Scores:\n",
            "Precision: 0.4933, Recall: 0.4933, F1: 0.4933\n"
          ]
        }
      ]
    },
    {
      "cell_type": "markdown",
      "source": [
        "## 6. Save Models"
      ],
      "metadata": {
        "id": "nt4N_SbkYz2T"
      }
    },
    {
      "cell_type": "code",
      "source": [
        "# Create directory for saved models\n",
        "os.makedirs('saved_models', exist_ok=True)\n",
        "\n",
        "# Save spaCy models\n",
        "nlp_sm.to_disk('saved_models/en_core_web_sm')\n",
        "nlp_lg.to_disk('saved_models/en_core_web_lg')\n",
        "\n",
        "# Save entity results for inference\n",
        "joblib.dump({\n",
        "    'train': train_df[['text', 'entities_sm', 'entities_lg']],\n",
        "    'valid': valid_df[['text', 'entities_sm', 'entities_lg']],\n",
        "    'test': test_df[['text', 'entities_sm', 'entities_lg']]\n",
        "}, 'saved_models/ner_results.pkl')"
      ],
      "metadata": {
        "id": "W-ms8-skY04d",
        "colab": {
          "base_uri": "https://localhost:8080/"
        },
        "outputId": "6a93f50a-95c5-4c32-8684-75012c8110c1"
      },
      "execution_count": 7,
      "outputs": [
        {
          "output_type": "execute_result",
          "data": {
            "text/plain": [
              "['saved_models/ner_results.pkl']"
            ]
          },
          "metadata": {},
          "execution_count": 7
        }
      ]
    },
    {
      "cell_type": "markdown",
      "source": [
        "## 7. Inference on New Articles"
      ],
      "metadata": {
        "id": "CndAOue4EJn5"
      }
    },
    {
      "cell_type": "code",
      "source": [
        "# Load saved models\n",
        "nlp_sm = spacy.load('saved_models/en_core_web_sm')\n",
        "nlp_lg = spacy.load('saved_models/en_core_web_lg')\n",
        "\n",
        "# New articles for inference\n",
        "new_articles = [\n",
        "    \"Apple Inc. announced a new product launch in San Francisco.\",\n",
        "    \"Elon Musk visited London to discuss Tesla's expansion plans.\",\n",
        "    \"The United Nations held a climate conference in Paris.\"\n",
        "]\n",
        "\n",
        "for article in new_articles:\n",
        "    # Rule-based NER\n",
        "    rule_entities = rule_based_ner(article)\n",
        "\n",
        "    # spaCy NER\n",
        "    entities_sm = spacy_ner(article, nlp_sm)\n",
        "    entities_lg = spacy_ner(article, nlp_lg)\n",
        "\n",
        "    print(f\"\\nArticle: {article}\")\n",
        "    print(\"Rule-Based NER:\", rule_entities)\n",
        "    print(\"Small Model NER:\", entities_sm)\n",
        "    print(\"Large Model NER:\", entities_lg)\n",
        "\n",
        "    # Visualize with displaCy\n",
        "    print(\"\\nSmall Model Visualization:\")\n",
        "    displacy.render(nlp_sm(article), style='ent', jupyter=True)\n",
        "    print(\"Large Model Visualization:\")\n",
        "    displacy.render(nlp_lg(article), style='ent', jupyter=True)"
      ],
      "metadata": {
        "colab": {
          "base_uri": "https://localhost:8080/",
          "height": 663
        },
        "id": "phDAeozsEJn5",
        "outputId": "4e0dacf4-7967-457c-9d02-50e414e8491f"
      },
      "execution_count": 8,
      "outputs": [
        {
          "output_type": "stream",
          "name": "stdout",
          "text": [
            "\n",
            "Article: Apple Inc. announced a new product launch in San Francisco.\n",
            "Rule-Based NER: {'PERSON': ['Apple Inc', 'San Francisco'], 'ORG': [], 'LOC': [], 'MISC': []}\n",
            "Small Model NER: {'PERSON': [], 'ORG': ['Apple Inc.'], 'LOC': ['San Francisco'], 'MISC': []}\n",
            "Large Model NER: {'PERSON': [], 'ORG': ['Apple Inc.'], 'LOC': ['San Francisco'], 'MISC': []}\n",
            "\n",
            "Small Model Visualization:\n"
          ]
        },
        {
          "output_type": "display_data",
          "data": {
            "text/plain": [
              "<IPython.core.display.HTML object>"
            ],
            "text/html": [
              "<span class=\"tex2jax_ignore\"><div class=\"entities\" style=\"line-height: 2.5; direction: ltr\">\n",
              "<mark class=\"entity\" style=\"background: #7aecec; padding: 0.45em 0.6em; margin: 0 0.25em; line-height: 1; border-radius: 0.35em;\">\n",
              "    Apple Inc.\n",
              "    <span style=\"font-size: 0.8em; font-weight: bold; line-height: 1; border-radius: 0.35em; vertical-align: middle; margin-left: 0.5rem\">ORG</span>\n",
              "</mark>\n",
              " announced a new product launch in \n",
              "<mark class=\"entity\" style=\"background: #feca74; padding: 0.45em 0.6em; margin: 0 0.25em; line-height: 1; border-radius: 0.35em;\">\n",
              "    San Francisco\n",
              "    <span style=\"font-size: 0.8em; font-weight: bold; line-height: 1; border-radius: 0.35em; vertical-align: middle; margin-left: 0.5rem\">GPE</span>\n",
              "</mark>\n",
              ".</div></span>"
            ]
          },
          "metadata": {}
        },
        {
          "output_type": "stream",
          "name": "stdout",
          "text": [
            "Large Model Visualization:\n"
          ]
        },
        {
          "output_type": "display_data",
          "data": {
            "text/plain": [
              "<IPython.core.display.HTML object>"
            ],
            "text/html": [
              "<span class=\"tex2jax_ignore\"><div class=\"entities\" style=\"line-height: 2.5; direction: ltr\">\n",
              "<mark class=\"entity\" style=\"background: #7aecec; padding: 0.45em 0.6em; margin: 0 0.25em; line-height: 1; border-radius: 0.35em;\">\n",
              "    Apple Inc.\n",
              "    <span style=\"font-size: 0.8em; font-weight: bold; line-height: 1; border-radius: 0.35em; vertical-align: middle; margin-left: 0.5rem\">ORG</span>\n",
              "</mark>\n",
              " announced a new product launch in \n",
              "<mark class=\"entity\" style=\"background: #feca74; padding: 0.45em 0.6em; margin: 0 0.25em; line-height: 1; border-radius: 0.35em;\">\n",
              "    San Francisco\n",
              "    <span style=\"font-size: 0.8em; font-weight: bold; line-height: 1; border-radius: 0.35em; vertical-align: middle; margin-left: 0.5rem\">GPE</span>\n",
              "</mark>\n",
              ".</div></span>"
            ]
          },
          "metadata": {}
        },
        {
          "output_type": "stream",
          "name": "stdout",
          "text": [
            "\n",
            "Article: Elon Musk visited London to discuss Tesla's expansion plans.\n",
            "Rule-Based NER: {'PERSON': ['Elon Musk'], 'ORG': [], 'LOC': ['London', 'Tesla'], 'MISC': []}\n",
            "Small Model NER: {'PERSON': ['Elon Musk'], 'ORG': ['Tesla'], 'LOC': ['London'], 'MISC': []}\n",
            "Large Model NER: {'PERSON': ['Elon Musk'], 'ORG': ['Tesla'], 'LOC': ['London'], 'MISC': []}\n",
            "\n",
            "Small Model Visualization:\n"
          ]
        },
        {
          "output_type": "display_data",
          "data": {
            "text/plain": [
              "<IPython.core.display.HTML object>"
            ],
            "text/html": [
              "<span class=\"tex2jax_ignore\"><div class=\"entities\" style=\"line-height: 2.5; direction: ltr\">\n",
              "<mark class=\"entity\" style=\"background: #aa9cfc; padding: 0.45em 0.6em; margin: 0 0.25em; line-height: 1; border-radius: 0.35em;\">\n",
              "    Elon Musk\n",
              "    <span style=\"font-size: 0.8em; font-weight: bold; line-height: 1; border-radius: 0.35em; vertical-align: middle; margin-left: 0.5rem\">PERSON</span>\n",
              "</mark>\n",
              " visited \n",
              "<mark class=\"entity\" style=\"background: #feca74; padding: 0.45em 0.6em; margin: 0 0.25em; line-height: 1; border-radius: 0.35em;\">\n",
              "    London\n",
              "    <span style=\"font-size: 0.8em; font-weight: bold; line-height: 1; border-radius: 0.35em; vertical-align: middle; margin-left: 0.5rem\">GPE</span>\n",
              "</mark>\n",
              " to discuss \n",
              "<mark class=\"entity\" style=\"background: #7aecec; padding: 0.45em 0.6em; margin: 0 0.25em; line-height: 1; border-radius: 0.35em;\">\n",
              "    Tesla\n",
              "    <span style=\"font-size: 0.8em; font-weight: bold; line-height: 1; border-radius: 0.35em; vertical-align: middle; margin-left: 0.5rem\">ORG</span>\n",
              "</mark>\n",
              "'s expansion plans.</div></span>"
            ]
          },
          "metadata": {}
        },
        {
          "output_type": "stream",
          "name": "stdout",
          "text": [
            "Large Model Visualization:\n"
          ]
        },
        {
          "output_type": "display_data",
          "data": {
            "text/plain": [
              "<IPython.core.display.HTML object>"
            ],
            "text/html": [
              "<span class=\"tex2jax_ignore\"><div class=\"entities\" style=\"line-height: 2.5; direction: ltr\">\n",
              "<mark class=\"entity\" style=\"background: #aa9cfc; padding: 0.45em 0.6em; margin: 0 0.25em; line-height: 1; border-radius: 0.35em;\">\n",
              "    Elon Musk\n",
              "    <span style=\"font-size: 0.8em; font-weight: bold; line-height: 1; border-radius: 0.35em; vertical-align: middle; margin-left: 0.5rem\">PERSON</span>\n",
              "</mark>\n",
              " visited \n",
              "<mark class=\"entity\" style=\"background: #feca74; padding: 0.45em 0.6em; margin: 0 0.25em; line-height: 1; border-radius: 0.35em;\">\n",
              "    London\n",
              "    <span style=\"font-size: 0.8em; font-weight: bold; line-height: 1; border-radius: 0.35em; vertical-align: middle; margin-left: 0.5rem\">GPE</span>\n",
              "</mark>\n",
              " to discuss \n",
              "<mark class=\"entity\" style=\"background: #7aecec; padding: 0.45em 0.6em; margin: 0 0.25em; line-height: 1; border-radius: 0.35em;\">\n",
              "    Tesla\n",
              "    <span style=\"font-size: 0.8em; font-weight: bold; line-height: 1; border-radius: 0.35em; vertical-align: middle; margin-left: 0.5rem\">ORG</span>\n",
              "</mark>\n",
              "'s expansion plans.</div></span>"
            ]
          },
          "metadata": {}
        },
        {
          "output_type": "stream",
          "name": "stdout",
          "text": [
            "\n",
            "Article: The United Nations held a climate conference in Paris.\n",
            "Rule-Based NER: {'PERSON': ['The United'], 'ORG': ['The United Nations'], 'LOC': ['Nations', 'Paris'], 'MISC': []}\n",
            "Small Model NER: {'PERSON': [], 'ORG': ['The United Nations'], 'LOC': ['Paris'], 'MISC': []}\n",
            "Large Model NER: {'PERSON': [], 'ORG': ['The United Nations'], 'LOC': ['Paris'], 'MISC': []}\n",
            "\n",
            "Small Model Visualization:\n"
          ]
        },
        {
          "output_type": "display_data",
          "data": {
            "text/plain": [
              "<IPython.core.display.HTML object>"
            ],
            "text/html": [
              "<span class=\"tex2jax_ignore\"><div class=\"entities\" style=\"line-height: 2.5; direction: ltr\">\n",
              "<mark class=\"entity\" style=\"background: #7aecec; padding: 0.45em 0.6em; margin: 0 0.25em; line-height: 1; border-radius: 0.35em;\">\n",
              "    The United Nations\n",
              "    <span style=\"font-size: 0.8em; font-weight: bold; line-height: 1; border-radius: 0.35em; vertical-align: middle; margin-left: 0.5rem\">ORG</span>\n",
              "</mark>\n",
              " held a climate conference in \n",
              "<mark class=\"entity\" style=\"background: #feca74; padding: 0.45em 0.6em; margin: 0 0.25em; line-height: 1; border-radius: 0.35em;\">\n",
              "    Paris\n",
              "    <span style=\"font-size: 0.8em; font-weight: bold; line-height: 1; border-radius: 0.35em; vertical-align: middle; margin-left: 0.5rem\">GPE</span>\n",
              "</mark>\n",
              ".</div></span>"
            ]
          },
          "metadata": {}
        },
        {
          "output_type": "stream",
          "name": "stdout",
          "text": [
            "Large Model Visualization:\n"
          ]
        },
        {
          "output_type": "display_data",
          "data": {
            "text/plain": [
              "<IPython.core.display.HTML object>"
            ],
            "text/html": [
              "<span class=\"tex2jax_ignore\"><div class=\"entities\" style=\"line-height: 2.5; direction: ltr\">\n",
              "<mark class=\"entity\" style=\"background: #7aecec; padding: 0.45em 0.6em; margin: 0 0.25em; line-height: 1; border-radius: 0.35em;\">\n",
              "    The United Nations\n",
              "    <span style=\"font-size: 0.8em; font-weight: bold; line-height: 1; border-radius: 0.35em; vertical-align: middle; margin-left: 0.5rem\">ORG</span>\n",
              "</mark>\n",
              " held a climate conference in \n",
              "<mark class=\"entity\" style=\"background: #feca74; padding: 0.45em 0.6em; margin: 0 0.25em; line-height: 1; border-radius: 0.35em;\">\n",
              "    Paris\n",
              "    <span style=\"font-size: 0.8em; font-weight: bold; line-height: 1; border-radius: 0.35em; vertical-align: middle; margin-left: 0.5rem\">GPE</span>\n",
              "</mark>\n",
              ".</div></span>"
            ]
          },
          "metadata": {}
        }
      ]
    }
  ]
}